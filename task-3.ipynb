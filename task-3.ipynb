{
 "cells": [
  {
   "cell_type": "code",
   "execution_count": 1,
   "id": "362c7c41",
   "metadata": {},
   "outputs": [
    {
     "name": "stdout",
     "output_type": "stream",
     "text": [
      "<mysql.connector.connection_cext.CMySQLConnection object at 0x000002053D1A74F0>\n"
     ]
    }
   ],
   "source": [
    "import mysql.connector\n",
    "mydb=mysql.connector.connect(host=\"localhost\", user=\"adeshlodhe\",password=\"775886\")\n",
    "print(mydb)"
   ]
  },
  {
   "cell_type": "code",
   "execution_count": 2,
   "id": "1b8e694b",
   "metadata": {},
   "outputs": [
    {
     "name": "stdout",
     "output_type": "stream",
     "text": [
      "connecttion successful\n"
     ]
    }
   ],
   "source": [
    "if(mydb):\n",
    "    print(\"connecttion successful\")\n",
    "else:\n",
    "    \n",
    "    print(\"connection unsuccessful\")"
   ]
  },
  {
   "cell_type": "code",
   "execution_count": 3,
   "id": "97058625",
   "metadata": {},
   "outputs": [
    {
     "name": "stdout",
     "output_type": "stream",
     "text": [
      "('adesh',)\n",
      "('adesh77',)\n",
      "('adesh7758',)\n",
      "('information_schema',)\n",
      "('mysql',)\n",
      "('performance_schema',)\n",
      "('sys',)\n"
     ]
    }
   ],
   "source": [
    "mycursor=mydb.cursor()\n",
    "mycursor.execute(\"show databases\")\n",
    "for x in mycursor:\n",
    "    print(x)"
   ]
  },
  {
   "cell_type": "code",
   "execution_count": 4,
   "id": "7d2255fc",
   "metadata": {},
   "outputs": [],
   "source": [
    "mydb=mysql.connector.connect(host=\"localhost\", user=\"adeshlodhe\",password=\"775886\", database=\"adesh77\")"
   ]
  },
  {
   "cell_type": "code",
   "execution_count": 13,
   "id": "159de66d",
   "metadata": {},
   "outputs": [
    {
     "name": "stdout",
     "output_type": "stream",
     "text": [
      "plz enter your id:-8\n",
      "plz enter your name:-Adesh Manik Lodhe\n",
      "plz enter your mobile number8\n",
      "plz enter your position:-hjg\n",
      "plz enter your salary99\n"
     ]
    }
   ],
   "source": [
    "id=int(input(\"plz enter your id:-\"))\n",
    "name=input(\"plz enter your name:-\")\n",
    "mobile=int(input(\"plz enter your mobile number:-\"))\n",
    "position=input(\"plz enter your position:-\")\n",
    "salary=int(input(\"plz enter your salary:-\"))\n",
    "\n",
    "cursor=mydb.cursor()\n",
    "\n",
    "\n",
    "\n",
    "query=\"insert into intern values({},'{}',{},'{}',{})\".format(id,name,mobile,position,salary)\n",
    "cursor.execute(query)\n",
    "mydb.commit()\n",
    "\n",
    "    \n",
    "    \n",
    "      \n"
   ]
  },
  {
   "cell_type": "code",
   "execution_count": 6,
   "id": "5ffc10fb",
   "metadata": {},
   "outputs": [],
   "source": []
  },
  {
   "cell_type": "code",
   "execution_count": null,
   "id": "1287f16f",
   "metadata": {},
   "outputs": [],
   "source": []
  }
 ],
 "metadata": {
  "kernelspec": {
   "display_name": "Python 3 (ipykernel)",
   "language": "python",
   "name": "python3"
  },
  "language_info": {
   "codemirror_mode": {
    "name": "ipython",
    "version": 3
   },
   "file_extension": ".py",
   "mimetype": "text/x-python",
   "name": "python",
   "nbconvert_exporter": "python",
   "pygments_lexer": "ipython3",
   "version": "3.9.13"
  }
 },
 "nbformat": 4,
 "nbformat_minor": 5
}
